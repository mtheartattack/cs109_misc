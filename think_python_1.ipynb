{
 "cells": [
  {
   "cell_type": "code",
   "execution_count": 1,
   "metadata": {
    "collapsed": false
   },
   "outputs": [],
   "source": [
    "def print_hello():\n",
    "    print 'hello world'\n"
   ]
  },
  {
   "cell_type": "code",
   "execution_count": 2,
   "metadata": {
    "collapsed": false
   },
   "outputs": [
    {
     "name": "stdout",
     "output_type": "stream",
     "text": [
      "hello world\n"
     ]
    }
   ],
   "source": [
    "print_hello()"
   ]
  },
  {
   "cell_type": "markdown",
   "metadata": {},
   "source": [
    "test"
   ]
  },
  {
   "cell_type": "code",
   "execution_count": 3,
   "metadata": {
    "collapsed": false
   },
   "outputs": [
    {
     "name": "stdout",
     "output_type": "stream",
     "text": [
      "<module 'math' from '/Users/lorenzofontana/anaconda/lib/python2.7/lib-dynload/math.so'>\n"
     ]
    }
   ],
   "source": [
    "import math\n",
    "print math"
   ]
  },
  {
   "cell_type": "code",
   "execution_count": 4,
   "metadata": {
    "collapsed": false
   },
   "outputs": [
    {
     "data": {
      "text/plain": [
       "0.0"
      ]
     },
     "execution_count": 4,
     "metadata": {},
     "output_type": "execute_result"
    }
   ],
   "source": [
    "math.log(1)"
   ]
  },
  {
   "cell_type": "code",
   "execution_count": 5,
   "metadata": {
    "collapsed": false
   },
   "outputs": [
    {
     "data": {
      "text/plain": [
       "16.0"
      ]
     },
     "execution_count": 5,
     "metadata": {},
     "output_type": "execute_result"
    }
   ],
   "source": [
    "math.pow(2, 4)"
   ]
  },
  {
   "cell_type": "code",
   "execution_count": 6,
   "metadata": {
    "collapsed": false
   },
   "outputs": [
    {
     "name": "stdout",
     "output_type": "stream",
     "text": [
      "dogdogdogdogdogdogdogdogdogdog\n"
     ]
    }
   ],
   "source": [
    "def print_times(what, times):\n",
    "    print what*times\n",
    "    \n",
    "print_times('dog', 10)"
   ]
  },
  {
   "cell_type": "code",
   "execution_count": 7,
   "metadata": {
    "collapsed": false
   },
   "outputs": [
    {
     "data": {
      "text/plain": [
       "True"
      ]
     },
     "execution_count": 7,
     "metadata": {},
     "output_type": "execute_result"
    }
   ],
   "source": [
    "6 == 6"
   ]
  },
  {
   "cell_type": "raw",
   "metadata": {},
   "source": [
    "x = 1\n",
    "while x < 100:\n",
    "    print x\n",
    "    x += 1\n",
    "    "
   ]
  },
  {
   "cell_type": "code",
   "execution_count": 17,
   "metadata": {
    "collapsed": false
   },
   "outputs": [
    {
     "name": "stdout",
     "output_type": "stream",
     "text": [
      "4 is a number\n"
     ]
    }
   ],
   "source": [
    "def test_fun(what):\n",
    "    if isinstance(what, str):\n",
    "        print what + ' is a string!'\n",
    "    elif isinstance(what, int):\n",
    "        print '%d is a number' %(what)\n",
    "    else: \n",
    "        print 'what type is this?'\n",
    "        \n",
    "test_fun(4)\n",
    "    "
   ]
  },
  {
   "cell_type": "code",
   "execution_count": 18,
   "metadata": {
    "collapsed": false
   },
   "outputs": [
    {
     "name": "stdout",
     "output_type": "stream",
     "text": [
      "ss is a string!\n"
     ]
    }
   ],
   "source": [
    "test_fun('ss')"
   ]
  },
  {
   "cell_type": "code",
   "execution_count": 20,
   "metadata": {
    "collapsed": false
   },
   "outputs": [
    {
     "name": "stdout",
     "output_type": "stream",
     "text": [
      "4 is a number‘\n"
     ]
    }
   ],
   "source": [
    "print 4, 'is a number‘'"
   ]
  },
  {
   "cell_type": "code",
   "execution_count": 23,
   "metadata": {
    "collapsed": false
   },
   "outputs": [],
   "source": [
    "def check_int(num):\n",
    "    if not isinstance(num, int):\n",
    "        print 'not a number'\n",
    "        return None\n",
    "    else:\n",
    "        print num, 'is a good number'\n"
   ]
  },
  {
   "cell_type": "code",
   "execution_count": 24,
   "metadata": {
    "collapsed": false
   },
   "outputs": [
    {
     "name": "stdout",
     "output_type": "stream",
     "text": [
      "4 is a good number\n"
     ]
    }
   ],
   "source": [
    "check_int(4)"
   ]
  },
  {
   "cell_type": "code",
   "execution_count": 25,
   "metadata": {
    "collapsed": false
   },
   "outputs": [
    {
     "name": "stdout",
     "output_type": "stream",
     "text": [
      "not a number\n"
     ]
    }
   ],
   "source": [
    "check_int('dd')"
   ]
  },
  {
   "cell_type": "code",
   "execution_count": 9,
   "metadata": {
    "collapsed": false
   },
   "outputs": [
    {
     "data": {
      "text/plain": [
       "int"
      ]
     },
     "execution_count": 9,
     "metadata": {},
     "output_type": "execute_result"
    }
   ],
   "source": [
    "type(4)"
   ]
  },
  {
   "cell_type": "code",
   "execution_count": 10,
   "metadata": {
    "collapsed": false
   },
   "outputs": [
    {
     "name": "stdout",
     "output_type": "stream",
     "text": [
      "ss is a string!\n"
     ]
    }
   ],
   "source": [
    "test_fun('ss')"
   ]
  },
  {
   "cell_type": "code",
   "execution_count": 11,
   "metadata": {
    "collapsed": false
   },
   "outputs": [
    {
     "name": "stdout",
     "output_type": "stream",
     "text": [
      "what type is this?\n"
     ]
    }
   ],
   "source": [
    "test_fun(True)"
   ]
  },
  {
   "cell_type": "code",
   "execution_count": 12,
   "metadata": {
    "collapsed": false
   },
   "outputs": [
    {
     "name": "stdout",
     "output_type": "stream",
     "text": [
      "cane\n",
      "end\n"
     ]
    }
   ],
   "source": [
    "def print_cane():\n",
    "    print 'cane'\n",
    "\n",
    "def do_n(fun, n):\n",
    "    if n<=0:\n",
    "        print 'end'\n",
    "        return\n",
    "    fun\n",
    "    do_n(fun, n-1)\n",
    "        \n",
    "do_n(print_cane(), 10)"
   ]
  },
  {
   "cell_type": "code",
   "execution_count": 13,
   "metadata": {
    "collapsed": false
   },
   "outputs": [
    {
     "ename": "NameError",
     "evalue": "name 'raw_imput' is not defined",
     "output_type": "error",
     "traceback": [
      "\u001b[0;31m---------------------------------------------------------------------------\u001b[0m",
      "\u001b[0;31mNameError\u001b[0m                                 Traceback (most recent call last)",
      "\u001b[0;32m<ipython-input-13-4ae7e0864a50>\u001b[0m in \u001b[0;36m<module>\u001b[0;34m()\u001b[0m\n\u001b[0;32m----> 1\u001b[0;31m \u001b[0mname\u001b[0m \u001b[0;34m=\u001b[0m \u001b[0mraw_imput\u001b[0m\u001b[0;34m(\u001b[0m\u001b[0;34m'name?'\u001b[0m\u001b[0;34m)\u001b[0m\u001b[0;34m\u001b[0m\u001b[0m\n\u001b[0m",
      "\u001b[0;31mNameError\u001b[0m: name 'raw_imput' is not defined"
     ]
    }
   ],
   "source": [
    "name = raw_imput('name?')"
   ]
  },
  {
   "cell_type": "code",
   "execution_count": 14,
   "metadata": {
    "collapsed": false
   },
   "outputs": [
    {
     "name": "stdout",
     "output_type": "stream",
     "text": [
      "\n"
     ]
    }
   ],
   "source": [
    "text = raw_input()"
   ]
  },
  {
   "cell_type": "code",
   "execution_count": 15,
   "metadata": {
    "collapsed": true
   },
   "outputs": [],
   "source": [
    "import math\n",
    "def area(radius):\n",
    "    return math.pi * radius**2\n"
   ]
  },
  {
   "cell_type": "code",
   "execution_count": null,
   "metadata": {
    "collapsed": true
   },
   "outputs": [],
   "source": []
  },
  {
   "cell_type": "code",
   "execution_count": 16,
   "metadata": {
    "collapsed": false
   },
   "outputs": [
    {
     "name": "stdout",
     "output_type": "stream",
     "text": [
      "3.14159265359\n"
     ]
    }
   ],
   "source": [
    "print math.pi"
   ]
  },
  {
   "cell_type": "code",
   "execution_count": 6,
   "metadata": {
    "collapsed": false
   },
   "outputs": [
    {
     "data": {
      "text/plain": [
       "12.566370614359172"
      ]
     },
     "execution_count": 6,
     "metadata": {},
     "output_type": "execute_result"
    }
   ],
   "source": [
    "area(2)"
   ]
  },
  {
   "cell_type": "markdown",
   "metadata": {
    "collapsed": true
   },
   "source": [
    "# chapter 8"
   ]
  },
  {
   "cell_type": "code",
   "execution_count": 2,
   "metadata": {
    "collapsed": false
   },
   "outputs": [
    {
     "data": {
      "text/plain": [
       "'ba'"
      ]
     },
     "execution_count": 2,
     "metadata": {},
     "output_type": "execute_result"
    }
   ],
   "source": [
    "fruit  = 'banana'\n",
    "fruit[0:2]"
   ]
  },
  {
   "cell_type": "code",
   "execution_count": 4,
   "metadata": {
    "collapsed": false
   },
   "outputs": [
    {
     "name": "stdout",
     "output_type": "stream",
     "text": [
      "6\n",
      "a\n"
     ]
    },
    {
     "data": {
      "text/plain": [
       "'a'"
      ]
     },
     "execution_count": 4,
     "metadata": {},
     "output_type": "execute_result"
    }
   ],
   "source": [
    "print len(fruit)\n",
    "print fruit[5]\n",
    "## last letter\n",
    "fruit[-1]"
   ]
  },
  {
   "cell_type": "code",
   "execution_count": 10,
   "metadata": {
    "collapsed": false
   },
   "outputs": [
    {
     "name": "stdout",
     "output_type": "stream",
     "text": [
      "b 0\n",
      "a 1\n",
      "n 2\n",
      "a 3\n",
      "n 4\n",
      "a 5\n"
     ]
    }
   ],
   "source": [
    "index = 0\n",
    "while index < len(fruit):\n",
    "    letter = fruit[index]\n",
    "    print letter, index\n",
    "    index += 1"
   ]
  },
  {
   "cell_type": "code",
   "execution_count": 9,
   "metadata": {
    "collapsed": false
   },
   "outputs": [
    {
     "name": "stdout",
     "output_type": "stream",
     "text": [
      "b\n",
      "a\n",
      "n\n",
      "a\n",
      "n\n",
      "a\n"
     ]
    }
   ],
   "source": [
    "for letter in fruit:\n",
    "    print letter"
   ]
  },
  {
   "cell_type": "code",
   "execution_count": 11,
   "metadata": {
    "collapsed": false
   },
   "outputs": [
    {
     "data": {
      "text/plain": [
       "'banana'"
      ]
     },
     "execution_count": 11,
     "metadata": {},
     "output_type": "execute_result"
    }
   ],
   "source": [
    "fruit[:]"
   ]
  },
  {
   "cell_type": "code",
   "execution_count": 14,
   "metadata": {
    "collapsed": false
   },
   "outputs": [
    {
     "data": {
      "text/plain": [
       "5"
      ]
     },
     "execution_count": 14,
     "metadata": {},
     "output_type": "execute_result"
    }
   ],
   "source": [
    "def find(word, letter, start):\n",
    "    index  = start\n",
    "    while index < len(word):\n",
    "        if word[index] == letter:\n",
    "            return index\n",
    "        index += 1\n",
    "    return - 1\n",
    "\n",
    "a = find('dededrto', 'r', 5)\n",
    "a"
   ]
  },
  {
   "cell_type": "code",
   "execution_count": 17,
   "metadata": {
    "collapsed": false
   },
   "outputs": [
    {
     "data": {
      "text/plain": [
       "'BANANA'"
      ]
     },
     "execution_count": 17,
     "metadata": {},
     "output_type": "execute_result"
    }
   ],
   "source": [
    "fruit.upper()"
   ]
  },
  {
   "cell_type": "code",
   "execution_count": 18,
   "metadata": {
    "collapsed": false
   },
   "outputs": [
    {
     "data": {
      "text/plain": [
       "'bmamamammaaamamamammaanmamamammaaamamamammaanmamamammaaa'"
      ]
     },
     "execution_count": 18,
     "metadata": {},
     "output_type": "execute_result"
    }
   ],
   "source": [
    "'mamamammaa'.join(fruit)"
   ]
  },
  {
   "cell_type": "code",
   "execution_count": 19,
   "metadata": {
    "collapsed": false
   },
   "outputs": [
    {
     "data": {
      "text/plain": [
       "'dddddddddddddddddddddddddddddddddddddddddddddddddddddddddddddddddddddddddddddddddddddddddddddddddddddddddddddddddddddddddddddddddddddddddddddddddddddddddddddddddddddddddddddddddddddddddddddddddddddddddddddddddddddddddddddddddddddddddddddddddddddddddddddddddddddddddddddddddddddddddddddddddddddddddddddddddddddddddddddddddddddddddddddddddddddddddddddddddddddddddddddddddddddddddddddddddddddddddddddddddddddddddddddddddddddddddddddddddddddddddddddddddddddddddddddddddddddddddddddddddddddddddddddddddddddddddddddddddddddddddddddddddddddddddddddddddddddddddddddddddddddddddddddddddddddddddddddddddddddddddddddddddddddddddddddddddddddddddddddddddddddddddddddddddddddddddddddddddddddddddddddddddddddddddddddddddddddddddddddddddddddddddddddddddddddddddddddddddddddddddddddddddddddddddddddddddddddddddddddddddddddddddddddddddddddddddddddddddddddddddddddddddddddddddddddddddddddddddddddddddddddddddddddddddddddddddddddddddddddddddddddddddddddddddddddddddddddddddddddddddddddddddddddddddddddddddddddddddddddddd'"
      ]
     },
     "execution_count": 19,
     "metadata": {},
     "output_type": "execute_result"
    }
   ],
   "source": [
    "'d'*1000"
   ]
  },
  {
   "cell_type": "code",
   "execution_count": 37,
   "metadata": {
    "collapsed": false
   },
   "outputs": [
    {
     "data": {
      "text/plain": [
       "'bbnbnb'"
      ]
     },
     "execution_count": 37,
     "metadata": {},
     "output_type": "execute_result"
    }
   ],
   "source": [
    "fruit.replace('a', 'b')"
   ]
  },
  {
   "cell_type": "code",
   "execution_count": 40,
   "metadata": {
    "collapsed": false
   },
   "outputs": [
    {
     "name": "stdout",
     "output_type": "stream",
     "text": [
      "True\n",
      "False\n"
     ]
    }
   ],
   "source": [
    "print 'a' in fruit\n",
    "print 'z' in fruit"
   ]
  },
  {
   "cell_type": "code",
   "execution_count": 43,
   "metadata": {
    "collapsed": false
   },
   "outputs": [
    {
     "name": "stdout",
     "output_type": "stream",
     "text": [
      "True\n",
      "False\n",
      "True\n",
      "False\n"
     ]
    }
   ],
   "source": [
    "print 'aaa' < 'bbb'\n",
    "print 'zebra' < 'duck'\n",
    "### all uppercase come before lowercase\n",
    "print 'zio'.upper() < 'cane'\n",
    "print 'zio' < 'cane'"
   ]
  },
  {
   "cell_type": "markdown",
   "metadata": {},
   "source": [
    "# chapter 10 lists"
   ]
  },
  {
   "cell_type": "code",
   "execution_count": 92,
   "metadata": {
    "collapsed": false
   },
   "outputs": [
    {
     "name": "stdout",
     "output_type": "stream",
     "text": [
      "[1, 'zio']\n",
      "ostie\n"
     ]
    }
   ],
   "source": [
    "lis_1 = [[1, 'zio'], 'ostie']\n",
    "for i in lis_1:\n",
    "    print i"
   ]
  },
  {
   "cell_type": "code",
   "execution_count": 93,
   "metadata": {
    "collapsed": false
   },
   "outputs": [
    {
     "name": "stdout",
     "output_type": "stream",
     "text": [
      "True\n",
      "False\n",
      "True\n"
     ]
    }
   ],
   "source": [
    "print 'ostie' in lis_1\n",
    "print 1 in lis_1\n",
    "print 1 in lis_1[0]"
   ]
  },
  {
   "cell_type": "code",
   "execution_count": 94,
   "metadata": {
    "collapsed": false
   },
   "outputs": [
    {
     "name": "stdout",
     "output_type": "stream",
     "text": [
      "[1, 'zio']\n",
      "ostie\n"
     ]
    }
   ],
   "source": [
    "for i in xrange(len(lis_1)):\n",
    "    print lis_1[i]"
   ]
  },
  {
   "cell_type": "code",
   "execution_count": 72,
   "metadata": {
    "collapsed": true
   },
   "outputs": [
    {
     "name": "stdout",
     "output_type": "stream",
     "text": [
      "00000 0\n",
      "00000 1\n",
      "00000 2\n",
      "00000 3\n",
      "00000 4\n",
      "00000 5\n",
      "00000 6\n",
      "00000 7\n",
      "00000 8\n",
      "00000 9\n",
      "00000 10\n",
      "00000 11\n",
      "00000 12\n",
      "00000 13\n",
      "00000 14\n",
      "00000 15\n",
      "00000 16\n",
      "00000 17\n",
      "00000 18\n",
      "00000 19\n",
      "00000 20\n",
      "00000 21\n",
      "00000 22\n",
      "00000 23\n",
      "00000 24\n",
      "00000 25\n",
      "00000 26\n",
      "00000 27\n",
      "00000 28\n",
      "00000 29\n",
      "00000 30\n",
      "00000 31\n",
      "00000 32\n",
      "00000 33\n",
      "00000 34\n",
      "00000 35\n",
      "00000 36\n",
      "00000 37\n",
      "00000 38\n",
      "00000 39\n",
      "00000 40\n",
      "00000 41\n",
      "00000 42\n",
      "00000 43\n",
      "00000 44\n",
      "00000 45\n",
      "00000 46\n",
      "00000 47\n",
      "00000 48\n",
      "00000 49\n",
      "00000 50\n",
      "00000 51\n",
      "00000 52\n",
      "00000 53\n",
      "00000 54\n",
      "00000 55\n",
      "00000 56\n",
      "00000 57\n",
      "00000 58\n",
      "00000 59\n",
      "00000 60\n",
      "00000 61\n",
      "00000 62\n",
      "00000 63\n",
      "00000 64\n",
      "00000 65\n",
      "00000 66\n",
      "00000 67\n",
      "00000 68\n",
      "00000 69\n",
      "00000 70\n",
      "00000 71\n",
      "00000 72\n",
      "00000 73\n",
      "00000 74\n",
      "00000 75\n",
      "00000 76\n",
      "00000 77\n",
      "00000 78\n",
      "00000 79\n",
      "00000 80\n",
      "00000 81\n",
      "00000 82\n",
      "00000 83\n",
      "00000 84\n",
      "00000 85\n",
      "00000 86\n",
      "00000 87\n",
      "00000 88\n",
      "00000 89\n",
      "00000 90\n",
      "00000 91\n",
      "00000 92\n",
      "00000 93\n",
      "00000 94\n",
      "00000 95\n",
      "00000 96\n",
      "00000 97\n",
      "00000 98\n",
      "00000 99\n",
      "00000 100\n",
      "00000 101\n",
      "00000 102\n",
      "00000 103\n",
      "00000 104\n",
      "00000 105\n",
      "00000 106\n",
      "00000 107\n",
      "00000 108\n",
      "00000 109\n",
      "00000 110\n",
      "00000 111\n",
      "00000 112\n",
      "00000 113\n",
      "00000 114\n",
      "00000 115\n",
      "00000 116\n",
      "00000 117\n",
      "00000 118\n",
      "00000 119\n",
      "00000 120\n",
      "00000 121\n",
      "00000 122\n",
      "00000 123\n",
      "00000 124\n",
      "00000 125\n",
      "00000 126\n",
      "00000 127\n",
      "00000 128\n",
      "00000 129\n",
      "00000 130\n",
      "00000 131\n",
      "00000 132\n",
      "00000 133\n",
      "00000 134\n",
      "00000 135\n",
      "00000 136\n",
      "00000 137\n",
      "00000 138\n",
      "00000 139\n",
      "00000 140\n",
      "00000 141\n",
      "00000 142\n",
      "00000 143\n",
      "00000 144\n",
      "00000 145\n",
      "00000 146\n",
      "00000 147\n",
      "00000 148\n",
      "00000 149\n",
      "00000 150\n",
      "00000 151\n",
      "00000 152\n",
      "00000 153\n",
      "00000 154\n",
      "00000 155\n",
      "00000 156\n",
      "00000 157\n",
      "00000 158\n",
      "00000 159\n",
      "00000 160\n",
      "00000 161\n",
      "00000 162\n",
      "00000 163\n",
      "00000 164\n",
      "00000 165\n",
      "00000 166\n",
      "00000 167\n",
      "00000 168\n",
      "00000 169\n",
      "00000 170\n",
      "00000 171\n",
      "00000 172\n",
      "00000 173\n",
      "00000 174\n",
      "00000 175\n",
      "00000 176\n",
      "00000 177\n",
      "00000 178\n",
      "00000 179\n",
      "00000 180\n",
      "00000 181\n",
      "00000 182\n",
      "00000 183\n",
      "00000 184\n",
      "00000 185\n",
      "00000 186\n",
      "00000 187\n",
      "00000 188\n",
      "00000 189\n",
      "00000 190\n",
      "00000 191\n",
      "00000 192\n",
      "00000 193\n",
      "00000 194\n",
      "00000 195\n",
      "00000 196\n",
      "00000 197\n",
      "00000 198\n",
      "00000 199\n",
      "00000 200\n",
      "00000 201\n",
      "00000 202\n",
      "00000 203\n",
      "00000 204\n",
      "00000 205\n",
      "00000 206\n",
      "00000 207\n",
      "00000 208\n",
      "00000 209\n",
      "00000 210\n",
      "00000 211\n",
      "00000 212\n",
      "00000 213\n",
      "00000 214\n",
      "00000 215\n",
      "00000 216\n",
      "00000 217\n",
      "00000 218\n",
      "00000 219\n",
      "00000 220\n",
      "00000 221\n",
      "00000 222\n",
      "00000 223\n",
      "00000 224\n",
      "00000 225\n",
      "00000 226\n",
      "00000 227\n",
      "00000 228\n",
      "00000 229\n",
      "00000 230\n",
      "00000 231\n",
      "00000 232\n",
      "00000 233\n",
      "00000 234\n",
      "00000 235\n",
      "00000 236\n",
      "00000 237\n",
      "00000 238\n",
      "00000 239\n",
      "00000 240\n",
      "00000 241\n",
      "00000 242\n",
      "00000 243\n",
      "00000 244\n",
      "00000 245\n",
      "00000 246\n",
      "00000 247\n",
      "00000 248\n",
      "00000 249\n",
      "00000 250\n",
      "00000 251\n",
      "00000 252\n",
      "00000 253\n",
      "00000 254\n",
      "00000 255\n",
      "00000 256\n",
      "00000 257\n",
      "00000 258\n",
      "00000 259\n",
      "00000 260\n",
      "00000 261\n",
      "00000 262\n",
      "00000 263\n",
      "00000 264\n",
      "00000 265\n",
      "00000 266\n",
      "00000 267\n",
      "00000 268\n",
      "00000 269\n",
      "00000 270\n",
      "00000 271\n",
      "00000 272\n",
      "00000 273\n",
      "00000 274\n",
      "00000 275\n",
      "00000 276\n",
      "00000 277\n",
      "00000 278\n",
      "00000 279\n",
      "00000 280\n",
      "00000 281\n",
      "00000 282\n",
      "00000 283\n",
      "00000 284\n",
      "00000 285\n",
      "00000 286\n",
      "00000 287\n",
      "00000 288\n",
      "00000 289\n",
      "00000 290\n",
      "00000 291\n",
      "00000 292\n",
      "00000 293\n",
      "00000 294\n",
      "00000 295\n",
      "00000 296\n",
      "00000 297\n",
      "00000 298\n",
      "00000 299\n",
      "00000 300\n",
      "00000 301\n",
      "00000 302\n",
      "00000 303\n",
      "00000 304\n",
      "00000 305\n",
      "00000 306\n",
      "00000 307\n",
      "00000 308\n",
      "00000 309\n",
      "00000 310\n",
      "00000 311\n",
      "00000 312\n",
      "00000 313\n",
      "00000 314\n",
      "00000 315\n",
      "00000 316\n",
      "00000 317\n",
      "00000 318\n",
      "00000 319\n",
      "00000 320\n",
      "00000 321\n",
      "00000 322\n",
      "00000 323\n",
      "00000 324\n",
      "00000 325\n",
      "00000 326\n",
      "00000 327\n",
      "00000 328\n",
      "00000 329\n",
      "00000 330\n",
      "00000 331\n",
      "00000 332\n",
      "00000 333\n",
      "00000 334\n",
      "00000 335\n",
      "00000 336\n",
      "00000 337\n",
      "00000 338\n",
      "00000 339\n",
      "00000 340\n",
      "00000 341\n",
      "00000 342\n",
      "00000 343\n",
      "00000 344\n",
      "00000 345\n",
      "00000 346\n",
      "00000 347\n",
      "00000 348\n",
      "00000 349\n",
      "00000 350\n",
      "00000 351\n",
      "00000 352\n",
      "00000 353\n",
      "00000 354\n",
      "00000 355\n",
      "00000 356\n",
      "00000 357\n",
      "00000 358\n",
      "00000 359\n",
      "00000 360\n",
      "00000 361\n",
      "00000 362\n",
      "00000 363\n",
      "00000 364\n",
      "00000 365\n",
      "00000 366\n",
      "00000 367\n",
      "00000 368\n",
      "00000 369\n",
      "00000 370\n",
      "00000 371\n",
      "00000 372\n",
      "00000 373\n",
      "00000 374\n",
      "00000 375\n",
      "00000 376\n",
      "00000 377\n",
      "00000 378\n",
      "00000 379\n",
      "00000 380\n",
      "00000 381\n",
      "00000 382\n",
      "00000 383\n",
      "00000 384\n",
      "00000 385\n",
      "00000 386\n",
      "00000 387\n",
      "00000 388\n",
      "00000 389\n",
      "00000 390\n",
      "00000 391\n",
      "00000 392\n",
      "00000 393\n",
      "00000 394\n",
      "00000 395\n",
      "00000 396\n",
      "00000 397\n",
      "00000 398\n",
      "00000 399\n",
      "00000 400\n",
      "00000 401\n",
      "00000 402\n",
      "00000 403\n",
      "00000 404\n",
      "00000 405\n",
      "00000 406\n",
      "00000 407\n",
      "00000 408\n",
      "00000 409\n",
      "00000 410\n",
      "00000 411\n",
      "00000 412\n",
      "00000 413\n",
      "00000 414\n",
      "00000 415\n",
      "00000 416\n",
      "00000 417\n",
      "00000 418\n",
      "00000 419\n",
      "00000 420\n",
      "00000 421\n",
      "00000 422\n",
      "00000 423\n",
      "00000 424\n",
      "00000 425\n",
      "00000 426\n",
      "00000 427\n",
      "00000 428\n",
      "00000 429\n",
      "00000 430\n",
      "00000 431\n",
      "00000 432\n",
      "00000 433\n",
      "00000 434\n",
      "00000 435\n",
      "00000 436\n",
      "00000 437\n",
      "00000 438\n",
      "00000 439\n",
      "00000 440\n",
      "00000 441\n",
      "00000 442\n",
      "00000 443\n",
      "00000 444\n",
      "00000 445\n",
      "00000 446\n",
      "00000 447\n",
      "00000 448\n",
      "00000 449\n",
      "00000 450\n",
      "00000 451\n",
      "00000 452\n",
      "00000 453\n",
      "00000 454\n",
      "00000 455\n",
      "00000 456\n",
      "00000 457\n",
      "00000 458\n",
      "00000 459\n",
      "00000 460\n",
      "00000 461\n",
      "00000 462\n",
      "00000 463\n",
      "00000 464\n",
      "00000 465\n",
      "00000 466\n",
      "00000 467\n",
      "00000 468\n",
      "00000 469\n",
      "00000 470\n",
      "00000 471\n",
      "00000 472\n",
      "00000 473\n",
      "00000 474\n",
      "00000 475\n",
      "00000 476\n",
      "00000 477\n",
      "00000 478\n",
      "00000 479\n",
      "00000 480\n",
      "00000 481\n",
      "00000 482\n",
      "00000 483\n",
      "00000 484\n",
      "00000 485\n",
      "00000 486\n",
      "00000 487\n",
      "00000 488\n",
      "00000 489\n",
      "00000 490\n",
      "00000 491\n",
      "00000 492\n",
      "00000 493\n",
      "00000 494\n",
      "00000 495\n",
      "00000 496\n",
      "00000 497\n",
      "00000 498\n",
      "00000 499\n",
      "00000 500\n",
      "00000 501\n",
      "00000 502\n",
      "00000 503\n",
      "00000 504\n",
      "00000 505\n",
      "00000 506\n",
      "00000 507\n",
      "00000 508\n",
      "00000 509\n",
      "00000 510\n",
      "00000 511\n",
      "00000 512\n",
      "00000 513\n",
      "00000 514\n",
      "00000 515\n",
      "00000 516\n",
      "00000 517\n",
      "00000 518\n",
      "00000 519\n",
      "00000 520\n",
      "00000 521\n",
      "00000 522\n",
      "00000 523\n",
      "00000 524\n",
      "00000 525\n",
      "00000 526\n",
      "00000 527\n",
      "00000 528\n",
      "00000 529\n",
      "00000 530\n",
      "00000 531\n",
      "00000 532\n",
      "00000 533\n",
      "00000 534\n",
      "00000 535\n",
      "00000 536\n",
      "00000 537\n",
      "00000 538\n",
      "00000 539\n",
      "00000 540\n",
      "00000 541\n",
      "00000 542\n",
      "00000 543\n",
      "00000 544\n",
      "00000 545\n",
      "00000 546\n",
      "00000 547\n",
      "00000 548\n",
      "00000 549\n",
      "00000 550\n",
      "00000 551\n",
      "00000 552\n",
      "00000 553\n",
      "00000 554\n",
      "00000 555\n",
      "00000 556\n",
      "00000 557\n",
      "00000 558\n",
      "00000 559\n",
      "00000 560\n",
      "00000 561\n",
      "00000 562\n",
      "00000 563\n",
      "00000 564\n",
      "00000 565\n",
      "00000 566\n",
      "00000 567\n",
      "00000 568\n",
      "00000 569\n",
      "00000 570\n",
      "00000 571\n",
      "00000 572\n",
      "00000 573\n",
      "00000 574\n",
      "00000 575\n",
      "00000 576\n",
      "00000 577\n",
      "00000 578\n",
      "00000 579\n",
      "00000 580\n",
      "00000 581\n",
      "00000 582\n",
      "00000 583\n",
      "00000 584\n",
      "00000 585\n",
      "00000 586\n",
      "00000 587\n",
      "00000 588\n",
      "00000 589\n",
      "00000 590\n",
      "00000 591\n",
      "00000 592\n",
      "00000 593\n",
      "00000 594\n",
      "00000 595\n",
      "00000 596\n",
      "00000 597\n",
      "00000 598\n",
      "00000 599\n",
      "00000 600\n",
      "00000 601\n",
      "00000 602\n",
      "00000 603\n",
      "00000 604\n",
      "00000 605\n",
      "00000 606\n",
      "00000 607\n",
      "00000 608\n",
      "00000 609\n",
      "00000 610\n",
      "00000 611\n",
      "00000 612\n",
      "00000 613\n",
      "00000 614\n",
      "00000 615\n",
      "00000 616\n",
      "00000 617\n",
      "00000 618\n",
      "00000 619\n",
      "00000 620\n",
      "00000 621\n",
      "00000 622\n",
      "00000 623\n",
      "00000 624\n",
      "00000 625\n",
      "00000 626\n",
      "00000 627\n",
      "00000 628\n",
      "00000 629\n",
      "00000 630\n",
      "00000 631\n",
      "00000 632\n",
      "00000 633\n",
      "00000 634\n",
      "00000 635\n",
      "00000 636\n",
      "00000 637\n",
      "00000 638\n",
      "00000 639\n",
      "00000 640\n",
      "00000 641\n",
      "00000 642\n",
      "00000 643\n",
      "00000 644\n",
      "00000 645\n",
      "00000 646\n",
      "00000 647\n",
      "00000 648\n",
      "00000 649\n",
      "00000 650\n",
      "00000 651\n",
      "00000 652\n",
      "00000 653\n",
      "00000 654\n",
      "00000 655\n",
      "00000 656\n",
      "00000 657\n",
      "00000 658\n",
      "00000 659\n",
      "00000 660\n",
      "00000 661\n",
      "00000 662\n",
      "00000 663\n",
      "00000 664\n",
      "00000 665\n",
      "00000 666\n",
      "00000 667\n",
      "00000 668\n",
      "00000 669\n",
      "00000 670\n",
      "00000 671\n",
      "00000 672\n",
      "00000 673\n",
      "00000 674\n",
      "00000 675\n",
      "00000 676\n",
      "00000 677\n",
      "00000 678\n",
      "00000 679\n",
      "00000 680\n",
      "00000 681\n",
      "00000 682\n",
      "00000 683\n",
      "00000 684\n",
      "00000 685\n",
      "00000 686\n",
      "00000 687\n",
      "00000 688\n",
      "00000 689\n",
      "00000 690\n",
      "00000 691\n",
      "00000 692\n",
      "00000 693\n",
      "00000 694\n",
      "00000 695\n",
      "00000 696\n",
      "00000 697\n",
      "00000 698\n",
      "00000 699\n",
      "00000 700\n",
      "00000 701\n",
      "00000 702\n",
      "00000 703\n",
      "00000 704\n",
      "00000 705\n",
      "00000 706\n",
      "00000 707\n",
      "00000 708\n",
      "00000 709\n",
      "00000 710\n",
      "00000 711\n",
      "00000 712\n",
      "00000 713\n",
      "00000 714\n",
      "00000 715\n",
      "00000 716\n",
      "00000 717\n",
      "00000 718\n",
      "00000 719\n",
      "00000 720\n",
      "00000 721\n",
      "00000 722\n",
      "00000 723\n",
      "00000 724\n",
      "00000 725\n",
      "00000 726\n",
      "00000 727\n",
      "00000 728\n",
      "00000 729\n",
      "00000 730\n",
      "00000 731\n",
      "00000 732\n",
      "00000 733\n",
      "00000 734\n",
      "00000 735\n",
      "00000 736\n",
      "00000 737\n",
      "00000 738\n",
      "00000 739\n",
      "00000 740\n",
      "00000 741\n",
      "00000 742\n",
      "00000 743\n",
      "00000 744\n",
      "00000 745\n",
      "00000 746\n",
      "00000 747\n",
      "00000 748\n",
      "00000 749\n",
      "00000 750\n",
      "00000 751\n",
      "00000 752\n",
      "00000 753\n",
      "00000 754\n",
      "00000 755\n",
      "00000 756\n",
      "00000 757\n",
      "00000 758\n",
      "00000 759\n",
      "00000 760\n",
      "00000 761\n",
      "00000 762\n",
      "00000 763\n",
      "00000 764\n",
      "00000 765\n",
      "00000 766\n",
      "00000 767\n",
      "00000 768\n",
      "00000 769\n",
      "00000 770\n",
      "00000 771\n",
      "00000 772\n",
      "00000 773\n",
      "00000 774\n",
      "00000 775\n",
      "00000 776\n",
      "00000 777\n",
      "00000 778\n",
      "00000 779\n",
      "00000 780\n",
      "00000 781\n",
      "00000 782\n",
      "00000 783\n",
      "00000 784\n",
      "00000 785\n",
      "00000 786\n",
      "00000 787\n",
      "00000 788\n",
      "00000 789\n",
      "00000 790\n",
      "00000 791\n",
      "00000 792\n",
      "00000 793\n",
      "00000 794\n",
      "00000 795\n",
      "00000 796\n",
      "00000 797\n",
      "00000 798\n",
      "00000 799\n",
      "00000 800\n",
      "00000 801\n",
      "00000 802\n",
      "00000 803\n",
      "00000 804\n",
      "00000 805\n",
      "00000 806\n",
      "00000 807\n",
      "00000 808\n",
      "00000 809\n",
      "00000 810\n",
      "00000 811\n",
      "00000 812\n",
      "00000 813\n",
      "00000 814\n",
      "00000 815\n",
      "00000 816\n",
      "00000 817\n",
      "00000 818\n",
      "00000 819\n",
      "00000 820\n",
      "00000 821\n",
      "00000 822\n",
      "00000 823\n",
      "00000 824\n",
      "00000 825\n",
      "00000 826\n",
      "00000 827\n",
      "00000 828\n",
      "00000 829\n",
      "00000 830\n",
      "00000 831\n",
      "00000 832\n",
      "00000 833\n",
      "00000 834\n",
      "00000 835\n",
      "00000 836\n",
      "00000 837\n",
      "00000 838\n",
      "00000 839\n",
      "00000 840\n",
      "00000 841\n",
      "00000 842\n",
      "00000 843\n",
      "00000 844\n",
      "00000 845\n",
      "00000 846\n",
      "00000 847\n",
      "00000 848\n",
      "00000 849\n",
      "00000 850\n",
      "00000 851\n",
      "00000 852\n",
      "00000 853\n",
      "00000 854\n",
      "00000 855\n",
      "00000 856\n",
      "00000 857\n",
      "00000 858\n",
      "00000 859\n",
      "00000 860\n",
      "00000 861\n",
      "00000 862\n",
      "00000 863\n",
      "00000 864\n",
      "00000 865\n",
      "00000 866\n",
      "00000 867\n",
      "00000 868\n",
      "00000 869\n",
      "00000 870\n",
      "00000 871\n",
      "00000 872\n",
      "00000 873\n",
      "00000 874\n",
      "00000 875\n",
      "00000 876\n",
      "00000 877\n",
      "00000 878\n",
      "00000 879\n",
      "00000 880\n",
      "00000 881\n",
      "00000 882\n",
      "00000 883\n",
      "00000 884\n",
      "00000 885\n",
      "00000 886\n",
      "00000 887\n",
      "00000 888\n",
      "00000 889\n",
      "00000 890\n",
      "00000 891\n",
      "00000 892\n",
      "00000 893\n",
      "00000 894\n",
      "00000 895\n",
      "00000 896\n",
      "00000 897\n",
      "00000 898\n",
      "00000 899\n",
      "00000 900\n",
      "00000 901\n",
      "00000 902\n",
      "00000 903\n",
      "00000 904\n",
      "00000 905\n",
      "00000 906\n",
      "00000 907\n",
      "00000 908\n",
      "00000 909\n",
      "00000 910\n",
      "00000 911\n",
      "00000 912\n",
      "00000 913\n",
      "00000 914\n",
      "00000 915\n",
      "00000 916\n",
      "00000 917\n",
      "00000 918\n",
      "00000 919\n",
      "00000 920\n",
      "00000 921\n",
      "00000 922\n",
      "00000 923\n",
      "00000 924\n",
      "00000 925\n",
      "00000 926\n",
      "00000 927\n",
      "00000 928\n",
      "00000 929\n",
      "00000 930\n",
      "00000 931\n",
      "00000 932\n",
      "00000 933\n",
      "00000 934\n",
      "00000 935\n",
      "00000 936\n",
      "00000 937\n",
      "00000 938\n",
      "00000 939\n",
      "00000 940\n",
      "00000 941\n",
      "00000 942\n",
      "00000 943\n",
      "00000 944\n",
      "00000 945\n",
      "00000 946\n",
      "00000 947\n",
      "00000 948\n",
      "00000 949\n",
      "00000 950\n",
      "00000 951\n",
      "00000 952\n",
      "00000 953\n",
      "00000 954\n",
      "00000 955\n",
      "00000 956\n",
      "00000 957\n",
      "00000 958\n",
      "00000 959\n",
      "00000 960\n",
      "00000 961\n",
      "00000 962\n",
      "00000 963\n",
      "00000 964\n",
      "00000 965\n",
      "00000 966\n",
      "00000 967\n",
      "00000 968\n",
      "00000 969\n",
      "00000 970\n",
      "00000 971\n",
      "00000 972\n",
      "00000 973\n",
      "00000 974\n",
      "00000 975\n",
      "00000 976\n",
      "00000 977\n",
      "00000 978\n",
      "00000 979\n",
      "00000 980\n",
      "00000 981\n",
      "00000 982\n",
      "00000 983\n",
      "00000 984\n",
      "00000 985\n",
      "00000 986\n",
      "00000 987\n",
      "00000 988\n",
      "00000 989\n",
      "00000 990\n",
      "00000 991\n",
      "00000 992\n",
      "00000 993\n",
      "00000 994\n",
      "00000 995\n",
      "00000 996\n",
      "00000 997\n",
      "00000 998\n",
      "00000 999\n"
     ]
    }
   ],
   "source": [
    "for i in xrange(1000):\n",
    "    print '00000', i"
   ]
  },
  {
   "cell_type": "code",
   "execution_count": 73,
   "metadata": {
    "collapsed": false
   },
   "outputs": [
    {
     "name": "stdout",
     "output_type": "stream",
     "text": [
      "None\n"
     ]
    }
   ],
   "source": [
    "## doesn't work, but it appends last to lis1\n",
    "lis_2 = lis_1.append('last')\n",
    "print lis_2\n",
    "### all methods only modify the list, they don't return anythin"
   ]
  },
  {
   "cell_type": "code",
   "execution_count": 95,
   "metadata": {
    "collapsed": false
   },
   "outputs": [
    {
     "name": "stdout",
     "output_type": "stream",
     "text": [
      "[[1, 'zio'], 'ostie', 'last']\n"
     ]
    }
   ],
   "source": [
    "lis_2 = lis_1[:]\n",
    "lis_2.append('last')\n",
    "print lis_2"
   ]
  },
  {
   "cell_type": "code",
   "execution_count": 96,
   "metadata": {
    "collapsed": false
   },
   "outputs": [
    {
     "data": {
      "text/plain": [
       "[[1, 'zio'], 'ostie', 'last', 'orco', 'pio']"
      ]
     },
     "execution_count": 96,
     "metadata": {},
     "output_type": "execute_result"
    }
   ],
   "source": [
    "## extend adds a list\n",
    "lis_2.extend(['orco', 'pio'])\n",
    "lis_2"
   ]
  },
  {
   "cell_type": "code",
   "execution_count": 97,
   "metadata": {
    "collapsed": false
   },
   "outputs": [
    {
     "data": {
      "text/plain": [
       "[[1, 'zio'], 'last', 'orco', 'ostie', 'pio']"
      ]
     },
     "execution_count": 97,
     "metadata": {},
     "output_type": "execute_result"
    }
   ],
   "source": [
    "lis_2.sort()\n",
    "lis_2"
   ]
  },
  {
   "cell_type": "code",
   "execution_count": 98,
   "metadata": {
    "collapsed": false
   },
   "outputs": [
    {
     "data": {
      "text/plain": [
       "[[1, 'zio'], 'orco', 'ostie', 'pio']"
      ]
     },
     "execution_count": 98,
     "metadata": {},
     "output_type": "execute_result"
    }
   ],
   "source": [
    "### delete elements\n",
    "lis_2.pop(1)\n",
    "lis_2"
   ]
  },
  {
   "cell_type": "code",
   "execution_count": 99,
   "metadata": {
    "collapsed": false
   },
   "outputs": [
    {
     "data": {
      "text/plain": [
       "[[1, 'zio'], 'ostie']"
      ]
     },
     "execution_count": 99,
     "metadata": {},
     "output_type": "execute_result"
    }
   ],
   "source": [
    "lis_1"
   ]
  },
  {
   "cell_type": "code",
   "execution_count": 100,
   "metadata": {
    "collapsed": false
   },
   "outputs": [
    {
     "data": {
      "text/plain": [
       "'ostie'"
      ]
     },
     "execution_count": 100,
     "metadata": {},
     "output_type": "execute_result"
    }
   ],
   "source": [
    "lis_1.pop(1)"
   ]
  },
  {
   "cell_type": "code",
   "execution_count": 101,
   "metadata": {
    "collapsed": false
   },
   "outputs": [
    {
     "data": {
      "text/plain": [
       "[[1, 'zio'], 'orco', 'ostie', 'pio']"
      ]
     },
     "execution_count": 101,
     "metadata": {},
     "output_type": "execute_result"
    }
   ],
   "source": [
    "lis_2"
   ]
  },
  {
   "cell_type": "code",
   "execution_count": 88,
   "metadata": {
    "collapsed": false
   },
   "outputs": [
    {
     "data": {
      "text/plain": [
       "['pio']"
      ]
     },
     "execution_count": 88,
     "metadata": {},
     "output_type": "execute_result"
    }
   ],
   "source": [
    "### pop also returns the element that was deleted\n",
    "## otherwise\n",
    "del lis_2[0]\n",
    "lis_2"
   ]
  },
  {
   "cell_type": "code",
   "execution_count": 91,
   "metadata": {
    "collapsed": false
   },
   "outputs": [
    {
     "name": "stdout",
     "output_type": "stream",
     "text": [
      "['zio', 'can', 'zio']\n",
      "['zio can', 'zio']\n"
     ]
    }
   ],
   "source": [
    "## split is the opposite of join, it splits a string into a list\n",
    "word = 'zio can zio'\n",
    "lis_word  = word.split()\n",
    "print lis_word\n",
    "\n",
    "word = 'zio can-zio'\n",
    "lis_word  = word.split('-')\n",
    "print lis_word"
   ]
  },
  {
   "cell_type": "code",
   "execution_count": null,
   "metadata": {
    "collapsed": true
   },
   "outputs": [],
   "source": [
    "### if you create  a list and then assign it to another variable, they refer to the same object\n",
    "lis_2 = lis_1\n",
    "lis_2.append('last')\n",
    "print lis_2\n",
    "\n",
    "## lis_1 and lis_2 are the same\n",
    "## but this should work\n",
    "lis_2 = lis_1[:]\n",
    "lis_2.append('last')\n",
    "print lis_2"
   ]
  },
  {
   "cell_type": "markdown",
   "metadata": {},
   "source": [
    "# chapter 11 dictionaries"
   ]
  },
  {
   "cell_type": "code",
   "execution_count": 103,
   "metadata": {
    "collapsed": false
   },
   "outputs": [
    {
     "name": "stdout",
     "output_type": "stream",
     "text": [
      "{'one': 'uno'}\n"
     ]
    }
   ],
   "source": [
    "gaga  = dict()\n",
    "gaga['one'] = 'uno'\n",
    "print gaga\n",
    "\n",
    "## the order in a dictionary is random"
   ]
  },
  {
   "cell_type": "code",
   "execution_count": 107,
   "metadata": {
    "collapsed": false
   },
   "outputs": [
    {
     "name": "stdout",
     "output_type": "stream",
     "text": [
      "['dos', 'uno']\n",
      "[('two', 'dos'), ('one', 'uno')]\n"
     ]
    }
   ],
   "source": [
    "gaga['two'] = 'dos'\n",
    "print gaga.values()\n",
    "print gaga.items()"
   ]
  },
  {
   "cell_type": "code",
   "execution_count": 108,
   "metadata": {
    "collapsed": false
   },
   "outputs": [
    {
     "data": {
      "text/plain": [
       "list"
      ]
     },
     "execution_count": 108,
     "metadata": {},
     "output_type": "execute_result"
    }
   ],
   "source": [
    "type(gaga.items())\n",
    "## items is a list of lists where each list is a key value pair"
   ]
  },
  {
   "cell_type": "code",
   "execution_count": 109,
   "metadata": {
    "collapsed": false
   },
   "outputs": [
    {
     "name": "stdout",
     "output_type": "stream",
     "text": [
      "two dos\n",
      "one uno\n"
     ]
    }
   ],
   "source": [
    "for key, value in gaga.items():\n",
    "    print key, value"
   ]
  },
  {
   "cell_type": "code",
   "execution_count": 111,
   "metadata": {
    "collapsed": false
   },
   "outputs": [
    {
     "name": "stdout",
     "output_type": "stream",
     "text": [
      "two dos\n",
      "one uno\n"
     ]
    }
   ],
   "source": [
    "for key, value in gaga.iteritems():\n",
    "    print key, value"
   ]
  },
  {
   "cell_type": "code",
   "execution_count": 115,
   "metadata": {
    "collapsed": true
   },
   "outputs": [],
   "source": [
    "### d.get(key, default) returns the value of that key, if it exists, or if it doesn't the default value\n",
    "\n",
    "def histogram(word):\n",
    "    d = dict()\n",
    "    for let in word:\n",
    "        d[let] = d.get(let, 0) + 1\n",
    "    return d"
   ]
  },
  {
   "cell_type": "code",
   "execution_count": 118,
   "metadata": {
    "collapsed": false
   },
   "outputs": [
    {
     "data": {
      "text/plain": [
       "{'a': 1, 'o': 1, 'p': 1, 'r': 2, 't': 1}"
      ]
     },
     "execution_count": 118,
     "metadata": {},
     "output_type": "execute_result"
    }
   ],
   "source": [
    "histogram('parrot')"
   ]
  },
  {
   "cell_type": "code",
   "execution_count": 128,
   "metadata": {
    "collapsed": false
   },
   "outputs": [
    {
     "name": "stdout",
     "output_type": "stream",
     "text": [
      "a 1\n",
      "o 1\n",
      "p 1\n",
      "r 2\n",
      "t 1\n"
     ]
    }
   ],
   "source": [
    "def print_hist(h):\n",
    "    new_list = h.keys()\n",
    "    new_list.sort()\n",
    "    for c in new_list:\n",
    "        print c, h[c]\n",
    "        \n",
    "print_hist(histogram('parrot'))"
   ]
  },
  {
   "cell_type": "code",
   "execution_count": 122,
   "metadata": {
    "collapsed": false
   },
   "outputs": [
    {
     "data": {
      "text/plain": [
       "list"
      ]
     },
     "execution_count": 122,
     "metadata": {},
     "output_type": "execute_result"
    }
   ],
   "source": [
    "type(histogram('parrot').keys())"
   ]
  },
  {
   "cell_type": "code",
   "execution_count": 124,
   "metadata": {
    "collapsed": false
   },
   "outputs": [],
   "source": [
    "histogram('parrot').keys().sort()"
   ]
  },
  {
   "cell_type": "markdown",
   "metadata": {},
   "source": [
    "# chapter 12 tuples"
   ]
  },
  {
   "cell_type": "code",
   "execution_count": 129,
   "metadata": {
    "collapsed": false
   },
   "outputs": [
    {
     "name": "stdout",
     "output_type": "stream",
     "text": [
      "1 2\n"
     ]
    }
   ],
   "source": [
    "# can assign values using tuples:\n",
    "a, b = 1, 2\n",
    "print a, b"
   ]
  },
  {
   "cell_type": "code",
   "execution_count": 130,
   "metadata": {
    "collapsed": false
   },
   "outputs": [
    {
     "name": "stdout",
     "output_type": "stream",
     "text": [
      "(2, 1) 2 1\n"
     ]
    }
   ],
   "source": [
    "###  for functions that return two values, the return value is a tuple\n",
    "t = divmod(7,3)\n",
    "quotient, reminder  = divmod(7,3)\n",
    "print t, quotient, reminder"
   ]
  },
  {
   "cell_type": "code",
   "execution_count": 131,
   "metadata": {
    "collapsed": false
   },
   "outputs": [
    {
     "data": {
      "text/plain": [
       "(2, 1)"
      ]
     },
     "execution_count": 131,
     "metadata": {},
     "output_type": "execute_result"
    }
   ],
   "source": [
    "# to make functions work with tuples, use *\n",
    "tup = (7,3)\n",
    "divmod(*tup)"
   ]
  },
  {
   "cell_type": "code",
   "execution_count": 133,
   "metadata": {
    "collapsed": false
   },
   "outputs": [
    {
     "name": "stdout",
     "output_type": "stream",
     "text": [
      "0 a\n",
      "1 b\n",
      "2 c\n"
     ]
    }
   ],
   "source": [
    "#enumerate creates a tuple of the index and the value in a sequence\n",
    "for index, letter in enumerate('abc'):\n",
    "    print index, letter"
   ]
  },
  {
   "cell_type": "code",
   "execution_count": 137,
   "metadata": {
    "collapsed": false
   },
   "outputs": [
    {
     "data": {
      "text/plain": [
       "tuple"
      ]
     },
     "execution_count": 137,
     "metadata": {},
     "output_type": "execute_result"
    }
   ],
   "source": [
    "# dict.items is a list of tuples\n",
    "d = {'a': 0, 'b':1}\n",
    "type(d.items()[0])"
   ]
  },
  {
   "cell_type": "code",
   "execution_count": 138,
   "metadata": {
    "collapsed": false
   },
   "outputs": [
    {
     "data": {
      "text/plain": [
       "[('a', 0), ('b', 1)]"
      ]
     },
     "execution_count": 138,
     "metadata": {},
     "output_type": "execute_result"
    }
   ],
   "source": [
    "d.items()"
   ]
  },
  {
   "cell_type": "code",
   "execution_count": 139,
   "metadata": {
    "collapsed": false
   },
   "outputs": [
    {
     "data": {
      "text/plain": [
       "{'a': 0, 'b': 1, 'c': 2}"
      ]
     },
     "execution_count": 139,
     "metadata": {},
     "output_type": "execute_result"
    }
   ],
   "source": [
    "## easy way to create a dict\n",
    "d = dict(zip('abc', range(3)))\n",
    "d"
   ]
  },
  {
   "cell_type": "code",
   "execution_count": null,
   "metadata": {
    "collapsed": true
   },
   "outputs": [],
   "source": [
    "## you can use tuple as keys as such\n",
    "## dict[firstname, lastname] = number"
   ]
  },
  {
   "cell_type": "code",
   "execution_count": 140,
   "metadata": {
    "collapsed": false
   },
   "outputs": [
    {
     "data": {
      "text/plain": [
       "True"
      ]
     },
     "execution_count": 140,
     "metadata": {},
     "output_type": "execute_result"
    }
   ],
   "source": [
    "## comparison only considers the first element that differs (in this case 1 < 3 so true)\n",
    "(0,1,2000) < (0,3,4)"
   ]
  },
  {
   "cell_type": "code",
   "execution_count": 143,
   "metadata": {
    "collapsed": false
   },
   "outputs": [
    {
     "name": "stdout",
     "output_type": "stream",
     "text": [
      "['a', 'd', 'd', 'd', 'e', 'e', 'f', 'w', 'w']\n",
      "<listreverseiterator object at 0x106c27090>\n"
     ]
    }
   ],
   "source": [
    "print sorted('wdewdfeda')\n",
    "print reversed([['z', 1], ['a', 100]])"
   ]
  },
  {
   "cell_type": "code",
   "execution_count": null,
   "metadata": {
    "collapsed": true
   },
   "outputs": [],
   "source": []
  }
 ],
 "metadata": {
  "anaconda-cloud": {},
  "kernelspec": {
   "display_name": "Python [conda root]",
   "language": "python",
   "name": "conda-root-py"
  },
  "language_info": {
   "codemirror_mode": {
    "name": "ipython",
    "version": 2
   },
   "file_extension": ".py",
   "mimetype": "text/x-python",
   "name": "python",
   "nbconvert_exporter": "python",
   "pygments_lexer": "ipython2",
   "version": "2.7.12"
  }
 },
 "nbformat": 4,
 "nbformat_minor": 1
}
