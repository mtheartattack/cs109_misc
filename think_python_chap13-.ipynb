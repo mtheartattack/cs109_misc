{
 "cells": [
  {
   "cell_type": "markdown",
   "metadata": {},
   "source": [
    "# chapter 13 data structure"
   ]
  },
  {
   "cell_type": "code",
   "execution_count": 9,
   "metadata": {
    "collapsed": false
   },
   "outputs": [
    {
     "name": "stdout",
     "output_type": "stream",
     "text": [
      "0 0.879489121239 6 12\n",
      "1 0.322512668258 10 10\n",
      "2 0.148632361483 7 14\n",
      "3 0.836855929916 5 10\n",
      "4 0.634825136932 10 10\n",
      "5 0.10785527399 8 12\n",
      "6 0.356081695481 5 10\n",
      "7 0.801050713553 5 14\n",
      "8 0.708045453834 10 10\n",
      "9 0.283561373646 7 12\n"
     ]
    }
   ],
   "source": [
    "import random\n",
    "\n",
    "for i in xrange(10):\n",
    "    print i, random.random(), random.randint(5,10), random.randrange(10, 16, 2)"
   ]
  },
  {
   "cell_type": "code",
   "execution_count": 10,
   "metadata": {
    "collapsed": false
   },
   "outputs": [
    {
     "name": "stdout",
     "output_type": "stream",
     "text": [
      "C:\\PythonScripts\\thinkpython\n"
     ]
    }
   ],
   "source": [
    "import os\n",
    "print os.getcwd()"
   ]
  },
  {
   "cell_type": "code",
   "execution_count": 13,
   "metadata": {
    "collapsed": false
   },
   "outputs": [
    {
     "data": {
      "text/plain": [
       "False"
      ]
     },
     "execution_count": 13,
     "metadata": {},
     "output_type": "execute_result"
    }
   ],
   "source": [
    "os.path.isdir('thinkpython')"
   ]
  },
  {
   "cell_type": "code",
   "execution_count": 14,
   "metadata": {
    "collapsed": false
   },
   "outputs": [
    {
     "data": {
      "text/plain": [
       "['.ipynb_checkpoints', 'Untitled.ipynb']"
      ]
     },
     "execution_count": 14,
     "metadata": {},
     "output_type": "execute_result"
    }
   ],
   "source": [
    "os.listdir(os.getcwd())"
   ]
  },
  {
   "cell_type": "code",
   "execution_count": 15,
   "metadata": {
    "collapsed": false
   },
   "outputs": [
    {
     "name": "stdout",
     "output_type": "stream",
     "text": [
      "C:\\PythonScripts\\thinkpython\\.ipynb_checkpoints\n",
      "C:\\PythonScripts\\thinkpython\\Untitled.ipynb\n"
     ]
    }
   ],
   "source": [
    "for file in os.listdir(os.getcwd()):\n",
    "    print os.path.join(os.getcwd(), file)"
   ]
  },
  {
   "cell_type": "markdown",
   "metadata": {},
   "source": [
    "# chapter 15 c;asses and objects"
   ]
  },
  {
   "cell_type": "code",
   "execution_count": 16,
   "metadata": {
    "collapsed": false
   },
   "outputs": [
    {
     "name": "stdout",
     "output_type": "stream",
     "text": [
      "<class '__main__.Point'>\n"
     ]
    }
   ],
   "source": [
    "class Point(object):\n",
    "    \"\"\"represents a point in 2d space\"\"\"\n",
    "print Point"
   ]
  },
  {
   "cell_type": "code",
   "execution_count": 17,
   "metadata": {
    "collapsed": false
   },
   "outputs": [
    {
     "name": "stdout",
     "output_type": "stream",
     "text": [
      "<__main__.Point object at 0x0000000003E5D710>\n"
     ]
    }
   ],
   "source": [
    "blank = Point()\n",
    "print blank"
   ]
  },
  {
   "cell_type": "code",
   "execution_count": 18,
   "metadata": {
    "collapsed": true
   },
   "outputs": [],
   "source": [
    "# assign values to an instance of the class point:\n",
    "blank.x = 3.0\n",
    "blank.y = float(4)"
   ]
  },
  {
   "cell_type": "code",
   "execution_count": 20,
   "metadata": {
    "collapsed": false
   },
   "outputs": [
    {
     "name": "stdout",
     "output_type": "stream",
     "text": [
      "3.0 4.0\n",
      "3.0\n"
     ]
    }
   ],
   "source": [
    "print blank.x, blank.y\n",
    "x = blank.x\n",
    "print x"
   ]
  },
  {
   "cell_type": "code",
   "execution_count": 21,
   "metadata": {
    "collapsed": true
   },
   "outputs": [],
   "source": [
    "def distance_points(p1, p2):\n",
    "    import math\n",
    "    return math.sqrt(((p1.x - p2.x)**2) + ((p1.y - p2.y)**2))"
   ]
  },
  {
   "cell_type": "code",
   "execution_count": 23,
   "metadata": {
    "collapsed": false
   },
   "outputs": [
    {
     "data": {
      "text/plain": [
       "2.23606797749979"
      ]
     },
     "execution_count": 23,
     "metadata": {},
     "output_type": "execute_result"
    }
   ],
   "source": [
    "po_1 = Point()\n",
    "po_1.x = 4\n",
    "po_1.y = 6\n",
    "po_2 = Point()\n",
    "po_2.x = 6\n",
    "po_2.y = 7\n",
    "\n",
    "distance_points(po_1, po_2)"
   ]
  },
  {
   "cell_type": "code",
   "execution_count": 24,
   "metadata": {
    "collapsed": false
   },
   "outputs": [
    {
     "data": {
      "text/plain": [
       "True"
      ]
     },
     "execution_count": 24,
     "metadata": {},
     "output_type": "execute_result"
    }
   ],
   "source": [
    "## the module copy copies any object without aliasing problems (they would be different objects)\n",
    "a = 3\n",
    "b = a\n",
    "a is b"
   ]
  },
  {
   "cell_type": "code",
   "execution_count": 26,
   "metadata": {
    "collapsed": false
   },
   "outputs": [
    {
     "data": {
      "text/plain": [
       "True"
      ]
     },
     "execution_count": 26,
     "metadata": {},
     "output_type": "execute_result"
    }
   ],
   "source": [
    "from copy import copy\n",
    "c = 3\n",
    "d = copy(c)\n",
    "c is d\n",
    "# well it doesn't work"
   ]
  },
  {
   "cell_type": "code",
   "execution_count": 28,
   "metadata": {
    "collapsed": false
   },
   "outputs": [
    {
     "name": "stdout",
     "output_type": "stream",
     "text": [
      "3\n"
     ]
    },
    {
     "data": {
      "text/plain": [
       "False"
      ]
     },
     "execution_count": 28,
     "metadata": {},
     "output_type": "execute_result"
    }
   ],
   "source": [
    "a = 4\n",
    "print b\n",
    "a is b"
   ]
  },
  {
   "cell_type": "code",
   "execution_count": 29,
   "metadata": {
    "collapsed": false,
    "scrolled": true
   },
   "outputs": [
    {
     "data": {
      "text/plain": [
       "True"
      ]
     },
     "execution_count": 29,
     "metadata": {},
     "output_type": "execute_result"
    }
   ],
   "source": [
    "## it's because copy only copies the object or something.try this\n",
    "from copy import deepcopy\n",
    "c = 3\n",
    "d = deepcopy(c)\n",
    "c is d"
   ]
  },
  {
   "cell_type": "code",
   "execution_count": null,
   "metadata": {
    "collapsed": true
   },
   "outputs": [],
   "source": [
    "# whatever"
   ]
  },
  {
   "cell_type": "markdown",
   "metadata": {},
   "source": [
    "# chapter 16 classes and functions"
   ]
  },
  {
   "cell_type": "code",
   "execution_count": 46,
   "metadata": {
    "collapsed": false
   },
   "outputs": [],
   "source": [
    "class Time(object):\n",
    "    \"\"\"represents time of day\"\"\""
   ]
  },
  {
   "cell_type": "code",
   "execution_count": 47,
   "metadata": {
    "collapsed": false
   },
   "outputs": [
    {
     "name": "stdout",
     "output_type": "stream",
     "text": [
      "<__main__.Time object at 0x0000000003E730F0>\n"
     ]
    }
   ],
   "source": [
    "### apparently the class definition must have a body (so \"\"\" \"\"\" works but ## gives error)\n",
    "time = Time()\n",
    "time.hour = 9\n",
    "time.minute = 59\n",
    "time.second = 30\n",
    "\n",
    "print time"
   ]
  },
  {
   "cell_type": "code",
   "execution_count": 48,
   "metadata": {
    "collapsed": false
   },
   "outputs": [
    {
     "name": "stdout",
     "output_type": "stream",
     "text": [
      "09:59:30\n"
     ]
    }
   ],
   "source": [
    "def print_time(time):\n",
    "    print '%.2d:%.2d:%.2d' % (time.hour, time.minute, time.second)  ## %.2d prints always 2 digits\n",
    "\n",
    "print_time(time)"
   ]
  },
  {
   "cell_type": "code",
   "execution_count": 49,
   "metadata": {
    "collapsed": false
   },
   "outputs": [
    {
     "data": {
      "text/plain": [
       "(2, 1)"
      ]
     },
     "execution_count": 49,
     "metadata": {},
     "output_type": "execute_result"
    }
   ],
   "source": [
    "divmod(7,3)"
   ]
  },
  {
   "cell_type": "markdown",
   "metadata": {
    "collapsed": true
   },
   "source": [
    "# chapter 17 classes and methods"
   ]
  },
  {
   "cell_type": "code",
   "execution_count": 24,
   "metadata": {
    "collapsed": false
   },
   "outputs": [],
   "source": [
    "\n",
    "\n",
    "# when defining a class, you start by initializing it:\n",
    "class Time(object):\n",
    "    \n",
    "    def __init__(self, hour=0, minute=0, second=0):\n",
    "        self.hour = hour\n",
    "        self.minute = minute\n",
    "        self.second = second\n",
    "        \n",
    "    # what it does is it basically initiates the class (referred to as self, by convention) with the attributes\n",
    "    \n",
    "    def __str__(self):\n",
    "        return '%.2d:%.2d:%.2d' %(self.hour, self.minute, self.second)\n",
    "    # str is called when print is called for an instance of a class\n",
    "     \n",
    "    def is_after(self, other):\n",
    "        return self.time_to_int() > other.time_to_int()\n",
    "    # when the method takes two instances, it is customary to call the second one other\n",
    "    \n",
    "    def time_to_int(self):\n",
    "        return self.hour*3600 + self.minute*60 + self.second\n",
    "    # this defines a method that can be called on a class\n",
    "    \n",
    "    ## other special methods include add, which is the default results for a + operation:\n",
    "    def __add__(self, other):\n",
    "        seconds = self.time_to_int() + other.time_to_int()\n",
    "        return int_to_time(seconds)\n",
    "    \n",
    "def int_to_time(int):\n",
    "        time = Time()\n",
    "        minutes, time.second = divmod(int, 60)\n",
    "        time.hour, time.minute = divmod(minutes, 60)\n",
    "        return time"
   ]
  },
  {
   "cell_type": "code",
   "execution_count": 28,
   "metadata": {
    "collapsed": false
   },
   "outputs": [
    {
     "name": "stdout",
     "output_type": "stream",
     "text": [
      "09:45:40 08:30:12\n",
      "35140\n",
      "35140\n",
      "True\n",
      "09:45:40\n",
      "18:15:52\n",
      "{'second': 40, 'minute': 45, 'hour': 9}\n"
     ]
    }
   ],
   "source": [
    "time_1 = Time(9, 45, 40)\n",
    "time_2 = Time(8, 30, 12)\n",
    "\n",
    "print time_1, time_2\n",
    "print time_1.time_to_int()\n",
    "# or:\n",
    "print Time.time_to_int(time_1)  #using time_to_int as a function belonging to the Time class\n",
    "print time_1.is_after(time_2)\n",
    "\n",
    "print int_to_time(time_1.time_to_int())\n",
    "print time_1 + time_2\n",
    "\n",
    "print time_1.__dict__ # dictionary of attributes of an instance of a class"
   ]
  },
  {
   "cell_type": "code",
   "execution_count": null,
   "metadata": {
    "collapsed": true
   },
   "outputs": [],
   "source": []
  }
 ],
 "metadata": {
  "anaconda-cloud": {},
  "kernelspec": {
   "display_name": "Python [Root]",
   "language": "python",
   "name": "Python [Root]"
  },
  "language_info": {
   "codemirror_mode": {
    "name": "ipython",
    "version": 2
   },
   "file_extension": ".py",
   "mimetype": "text/x-python",
   "name": "python",
   "nbconvert_exporter": "python",
   "pygments_lexer": "ipython2",
   "version": "2.7.12"
  }
 },
 "nbformat": 4,
 "nbformat_minor": 0
}
